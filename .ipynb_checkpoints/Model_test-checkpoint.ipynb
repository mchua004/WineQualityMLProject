{
 "cells": [
  {
   "cell_type": "code",
   "execution_count": 1,
   "metadata": {},
   "outputs": [],
   "source": [
    "import pickle\n",
    "import pandas as pd\n",
    "from wine_ML import wine_quality, wine_type"
   ]
  },
  {
   "cell_type": "code",
   "execution_count": 2,
   "metadata": {},
   "outputs": [
    {
     "name": "stdout",
     "output_type": "stream",
     "text": [
      "./lib/models/kNN_type_red.pkl\n",
      "./lib/models/kNN_quality.pkl\n",
      "./lib/models/pca_type_red.pkl\n",
      "./lib/models/pca_quality.pkl\n",
      "{'kNN_type_red': KNeighborsClassifier(n_neighbors=3), 'kNN_quality': KNeighborsClassifier(n_neighbors=3), 'pca_type_red': Pipeline(steps=[('standardscaler', StandardScaler()),\n",
      "                ('pca', PCA(n_components=4, random_state=42))]), 'pca_quality': Pipeline(steps=[('standardscaler', StandardScaler()),\n",
      "                ('pca', PCA(n_components=4, random_state=42))])}\n"
     ]
    }
   ],
   "source": [
    "#loaded_kNN = pickle.load(open(filename, 'rb'))\n",
    "path ='./lib/models/'\n",
    "descriptors = ['type_red','quality']\n",
    "model_list = ['kNN','pca']\n",
    "model_dic = {}\n",
    "for model in model_list:\n",
    "    for descriptor in descriptors:\n",
    "        file = path+model+'_'+descriptor+'.pkl'\n",
    "        print(file)\n",
    "        model_dic[f'{model}_{descriptor}'] = pickle.load(open(file, 'rb'))\n",
    "\n",
    "print(model_dic)"
   ]
  },
  {
   "cell_type": "code",
   "execution_count": 7,
   "metadata": {},
   "outputs": [],
   "source": [
    "data = pd.DataFrame.from_dict({'alcohol': [20],\n",
    " 'chlorides':[.5],\n",
    " 'citric_acid': [2],\n",
    " 'fixed_acidity': [30],\n",
    " 'free_sulfur_dioxide': [0.5],\n",
    " 'total_sulfur_dioxide':[1.0],\n",
    " 'density':[1.1],\n",
    " 'pH':[3],\n",
    " 'residual_sugar': [0.3],\n",
    " 'sulphates':[0.2],\n",
    " 'volatile_acidity':[5]}, orient='columns')"
   ]
  },
  {
   "cell_type": "code",
   "execution_count": 9,
   "metadata": {},
   "outputs": [
    {
     "name": "stdout",
     "output_type": "stream",
     "text": [
      "type_red\n",
      "[1]\n",
      "quality\n",
      "[6]\n",
      "{'type_red': array([1], dtype=uint8), 'quality': array([6])}\n"
     ]
    }
   ],
   "source": [
    "result = dict()\n",
    "for descriptor in descriptors:\n",
    "    print(descriptor)\n",
    "    result[descriptor] = model_dic[f'kNN_{descriptor}'].predict(model_dic[f'pca_{descriptor}'].transform(data))\n",
    "    print(model_dic[f'kNN_{descriptor}'].predict(model_dic[f'pca_{descriptor}'].transform(data)))\n",
    "print(result)"
   ]
  },
  {
   "cell_type": "code",
   "execution_count": 10,
   "metadata": {},
   "outputs": [
    {
     "name": "stdout",
     "output_type": "stream",
     "text": [
      "Red wine of Average Quality \n"
     ]
    }
   ],
   "source": [
    "print(f\"{wine_type(result['type_red']).capitalize()} wine of {wine_quality(result['quality'])}\")\n"
   ]
  }
 ],
 "metadata": {
  "kernelspec": {
   "display_name": "Python 3",
   "language": "python",
   "name": "python3"
  },
  "language_info": {
   "codemirror_mode": {
    "name": "ipython",
    "version": 3
   },
   "file_extension": ".py",
   "mimetype": "text/x-python",
   "name": "python",
   "nbconvert_exporter": "python",
   "pygments_lexer": "ipython3",
   "version": "3.8.5"
  }
 },
 "nbformat": 4,
 "nbformat_minor": 4
}
