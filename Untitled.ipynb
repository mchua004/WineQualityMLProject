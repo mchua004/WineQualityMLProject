{
 "cells": [
  {
   "cell_type": "code",
   "execution_count": 1,
   "metadata": {},
   "outputs": [],
   "source": [
    "import pickle\n",
    "import pandas as pd\n",
    "from wine_ML import wine_quality, wine_type"
   ]
  },
  {
   "cell_type": "code",
   "execution_count": 2,
   "metadata": {},
   "outputs": [
    {
     "name": "stdout",
     "output_type": "stream",
     "text": [
      "{'kNN_type': KNeighborsClassifier(n_neighbors=3), 'kNN_quality': KNeighborsClassifier(n_neighbors=3), 'pca_type': Pipeline(steps=[('standardscaler', StandardScaler()),\n",
      "                ('pca', PCA(n_components=4, random_state=42))]), 'pca_quality': Pipeline(steps=[('standardscaler', StandardScaler()),\n",
      "                ('pca', PCA(n_components=4, random_state=42))])}\n"
     ]
    }
   ],
   "source": [
    "#loaded_kNN = pickle.load(open(filename, 'rb'))\n",
    "path ='./lib/models/'\n",
    "descriptors = ['type','quality']\n",
    "model_list = ['kNN','pca']\n",
    "model_dic = {}\n",
    "for model in model_list:\n",
    "    for descriptor in descriptors:\n",
    "        model_dic[f'{model}_{descriptor}'] = pickle.load(open(path+model+'.pkl', 'rb'))\n",
    "\n",
    "print(model_dic)"
   ]
  },
  {
   "cell_type": "code",
   "execution_count": 3,
   "metadata": {},
   "outputs": [],
   "source": [
    "data = pd.DataFrame.from_dict({'alcohol': [20],\n",
    " 'chlorides':[.5],\n",
    " 'citric_acid': [2],\n",
    " 'fixed_acidity': [30],\n",
    " 'free_sulfur_dioxide': [0.5],\n",
    " 'total_sulfur_dioxide':[1.0],\n",
    " 'density':[1.1],\n",
    " 'pH':[3],\n",
    " 'residual_sugar': [0.3],\n",
    " 'sulphates':[0.2],\n",
    " 'volatile_acidity':[5]}, orient='columns')"
   ]
  },
  {
   "cell_type": "code",
   "execution_count": 5,
   "metadata": {},
   "outputs": [],
   "source": [
    "result = dict()\n",
    "for descriptor in descriptors:\n",
    "    result[descriptor] = model_dic[f'kNN_{descriptor}'].predict(model_dic[f'pca_{descriptor}'].transform(data))"
   ]
  },
  {
   "cell_type": "code",
   "execution_count": 9,
   "metadata": {},
   "outputs": [
    {
     "ename": "SyntaxError",
     "evalue": "invalid syntax (<ipython-input-9-450a1fe9bd8c>, line 1)",
     "output_type": "error",
     "traceback": [
      "\u001b[0;36m  File \u001b[0;32m\"<ipython-input-9-450a1fe9bd8c>\"\u001b[0;36m, line \u001b[0;32m1\u001b[0m\n\u001b[0;31m    print(f'{wine_type(result['type'])} wine of {wine_quality(result['quality'])}')\u001b[0m\n\u001b[0m                               ^\u001b[0m\n\u001b[0;31mSyntaxError\u001b[0m\u001b[0;31m:\u001b[0m invalid syntax\n"
     ]
    }
   ],
   "source": [
    "print(f'{wine_type(result['type'])} wine of {wine_quality(result['quality'])}')\n"
   ]
  }
 ],
 "metadata": {
  "kernelspec": {
   "display_name": "Python 3",
   "language": "python",
   "name": "python3"
  },
  "language_info": {
   "codemirror_mode": {
    "name": "ipython",
    "version": 3
   },
   "file_extension": ".py",
   "mimetype": "text/x-python",
   "name": "python",
   "nbconvert_exporter": "python",
   "pygments_lexer": "ipython3",
   "version": "3.8.5"
  }
 },
 "nbformat": 4,
 "nbformat_minor": 4
}
